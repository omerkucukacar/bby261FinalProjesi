{
  "nbformat": 4,
  "nbformat_minor": 0,
  "metadata": {
    "colab": {
      "name": "bby261FinalProjesi",
      "provenance": [],
      "collapsed_sections": [],
      "include_colab_link": true
    },
    "kernelspec": {
      "display_name": "Python 3",
      "name": "python3"
    }
  },
  "cells": [
    {
      "cell_type": "markdown",
      "metadata": {
        "id": "view-in-github",
        "colab_type": "text"
      },
      "source": [
        "<a href=\"https://colab.research.google.com/github/omerkucukacar/bby261FinalProjesi/blob/master/bby261FinalProjesi.ipynb\" target=\"_parent\"><img src=\"https://colab.research.google.com/assets/colab-badge.svg\" alt=\"Open In Colab\"/></a>"
      ]
    },
    {
      "cell_type": "code",
      "metadata": {
        "id": "jIrP3qquEcOr",
        "colab_type": "code",
        "colab": {}
      },
      "source": [
        "#okunacak kütüphanaler\n",
        "from keras.datasets import mnist\n",
        "import matplotlib.pyplot as plt\n",
        "from IPython.display import Image\n",
        "import tensorflow as tf\n",
        "from tensorflow import keras\n",
        "import numpy as np\n",
        "import matplotlib.pyplot as plt\n",
        "\n",
        "\n",
        "\n"
      ],
      "execution_count": 0,
      "outputs": []
    },
    {
      "cell_type": "code",
      "metadata": {
        "id": "PFGBjwCJEcSX",
        "colab_type": "code",
        "colab": {}
      },
      "source": [
        "mnist = mnist\n",
        "\n",
        "(X_train, y_train), (X_test, y_test) = mnist.load_data()"
      ],
      "execution_count": 0,
      "outputs": []
    },
    {
      "cell_type": "code",
      "metadata": {
        "id": "0otft3TWEcZO",
        "colab_type": "code",
        "colab": {}
      },
      "source": [
        "trainX = X_train.reshape((X_train.shape[0], 28, 28, 1))\n",
        "testX = X_test.reshape((X_test.shape[0], 28, 28, 1))\n",
        "trainX = trainX/255\n",
        "testX = testX/255"
      ],
      "execution_count": 0,
      "outputs": []
    },
    {
      "cell_type": "code",
      "metadata": {
        "id": "LYcoKEgTotkc",
        "colab_type": "code",
        "colab": {}
      },
      "source": [
        "# El yazısının tahmin edileceği rakamlar\n",
        "el_yazisi = [\n",
        "               '0', \n",
        "              '1', \n",
        "               '2',\n",
        "               '3', \n",
        "              '4',\n",
        "               '5',\n",
        "               '6', \n",
        "               '7',\n",
        "               '8', \n",
        "               '9']\n",
        "\n",
        "\n",
        "\n",
        "               "
      ],
      "execution_count": 0,
      "outputs": []
    },
    {
      "cell_type": "code",
      "metadata": {
        "id": "cYVICwxSmdFP",
        "colab_type": "code",
        "outputId": "a6d73c20-be8f-4bd7-b6f4-99f5b3e1e439",
        "colab": {
          "base_uri": "https://localhost:8080/",
          "height": 34
        }
      },
      "source": [
        "X_train.shape\n"
      ],
      "execution_count": 346,
      "outputs": [
        {
          "output_type": "execute_result",
          "data": {
            "text/plain": [
              "(60000, 28, 28)"
            ]
          },
          "metadata": {
            "tags": []
          },
          "execution_count": 346
        }
      ]
    },
    {
      "cell_type": "code",
      "metadata": {
        "id": "QcQmrUqYmh3u",
        "colab_type": "code",
        "outputId": "2fbb6d40-7286-4abc-f60d-79f4359ff683",
        "colab": {
          "base_uri": "https://localhost:8080/",
          "height": 34
        }
      },
      "source": [
        "len(y_train)"
      ],
      "execution_count": 347,
      "outputs": [
        {
          "output_type": "execute_result",
          "data": {
            "text/plain": [
              "60000"
            ]
          },
          "metadata": {
            "tags": []
          },
          "execution_count": 347
        }
      ]
    },
    {
      "cell_type": "code",
      "metadata": {
        "id": "6yWvdr_XoynO",
        "colab_type": "code",
        "outputId": "32720aeb-70cc-44ef-a9c7-98a2b4c4dc4e",
        "colab": {
          "base_uri": "https://localhost:8080/",
          "height": 34
        }
      },
      "source": [
        "y_train"
      ],
      "execution_count": 348,
      "outputs": [
        {
          "output_type": "execute_result",
          "data": {
            "text/plain": [
              "array([5, 0, 4, ..., 5, 6, 8], dtype=uint8)"
            ]
          },
          "metadata": {
            "tags": []
          },
          "execution_count": 348
        }
      ]
    },
    {
      "cell_type": "code",
      "metadata": {
        "id": "Y6arFwyCmudk",
        "colab_type": "code",
        "outputId": "b032eb34-a91b-49c2-d300-570e242ab1de",
        "colab": {
          "base_uri": "https://localhost:8080/",
          "height": 34
        }
      },
      "source": [
        "X_test.shape"
      ],
      "execution_count": 349,
      "outputs": [
        {
          "output_type": "execute_result",
          "data": {
            "text/plain": [
              "(10000, 28, 28)"
            ]
          },
          "metadata": {
            "tags": []
          },
          "execution_count": 349
        }
      ]
    },
    {
      "cell_type": "code",
      "metadata": {
        "id": "gW5g8Xp5mynQ",
        "colab_type": "code",
        "outputId": "0e85daae-45a9-4a84-c6e1-30ab52bc3477",
        "colab": {
          "base_uri": "https://localhost:8080/",
          "height": 34
        }
      },
      "source": [
        "len(y_test)"
      ],
      "execution_count": 350,
      "outputs": [
        {
          "output_type": "execute_result",
          "data": {
            "text/plain": [
              "10000"
            ]
          },
          "metadata": {
            "tags": []
          },
          "execution_count": 350
        }
      ]
    },
    {
      "cell_type": "code",
      "metadata": {
        "id": "KxRvC1j2EcV7",
        "colab_type": "code",
        "outputId": "9bb28b50-11c8-4b20-c56e-0beea9207b2b",
        "colab": {
          "base_uri": "https://localhost:8080/",
          "height": 265
        }
      },
      "source": [
        "import matplotlib.pyplot as plt\n",
        "\n",
        "\n",
        "plt.imshow(X_train[0])\n",
        "plt.colorbar()\n",
        "plt.grid(False)\n",
        "plt.show()\n",
        "\n",
        "# El yazısı Şeklinde Grafiği göster\n",
        "plt.show()\n"
      ],
      "execution_count": 351,
      "outputs": [
        {
          "output_type": "display_data",
          "data": {
            "image/png": "[encoded data removed]",
            "text/plain": [
              "<Figure size 432x288 with 2 Axes>"
            ]
          },
          "metadata": {
            "tags": []
          }
        }
      ]
    },
    {
      "cell_type": "code",
      "metadata": {
        "id": "0NdOzBxxmLc1",
        "colab_type": "code",
        "colab": {}
      },
      "source": [
        "X_train = X_train / 255.0\n",
        "\n",
        "X_test = X_test / 255.0"
      ],
      "execution_count": 0,
      "outputs": []
    },
    {
      "cell_type": "code",
      "metadata": {
        "id": "wY2WHP8MpuQ0",
        "colab_type": "code",
        "outputId": "430e1ce3-3b44-416a-fbc1-a8a999c589f0",
        "colab": {
          "base_uri": "https://localhost:8080/",
          "height": 589
        }
      },
      "source": [
        "plt.figure(figsize=(10,10))\n",
        "for i in range(16):\n",
        "    plt.subplot(4,4,i+1)\n",
        "    plt.xticks([])\n",
        "    plt.yticks([])\n",
        "    plt.grid(False)\n",
        "    plt.imshow(X_train[i], cmap=plt.cm.binary)\n",
        "    plt.xlabel(el_yazisi[y_train[i]])\n",
        "plt.show()"
      ],
      "execution_count": 353,
      "outputs": [
        {
          "output_type": "display_data",
          "data": {
            "image/png": "[encoded data removed]",
            "text/plain": [
              "<Figure size 720x720 with 16 Axes>"
            ]
          },
          "metadata": {
            "tags": []
          }
        }
      ]
    },
    {
      "cell_type": "code",
      "metadata": {
        "id": "yQHmEEUDRInc",
        "colab_type": "code",
        "colab": {}
      },
      "source": [
        "trainY =(y_train,10)\n",
        "testY = (y_test,10)"
      ],
      "execution_count": 0,
      "outputs": []
    },
    {
      "cell_type": "code",
      "metadata": {
        "id": "VTxwbpVbEqIy",
        "colab_type": "code",
        "colab": {}
      },
      "source": [
        "benimmodelim= keras.Sequential([\n",
        "    keras.layers.Flatten(input_shape=(28, 28)),\n",
        "    keras.layers.Dense(128, activation='relu'),\n",
        "    keras.layers.Dense(10, activation='softmax')\n",
        "])\n"
      ],
      "execution_count": 0,
      "outputs": []
    },
    {
      "cell_type": "code",
      "metadata": {
        "id": "6qAAK-vgEtX_",
        "colab_type": "code",
        "colab": {}
      },
      "source": [
        "benimmodelim.compile(optimizer='adam',loss='sparse_categorical_crossentropy',metrics=['accuracy'])"
      ],
      "execution_count": 0,
      "outputs": []
    },
    {
      "cell_type": "code",
      "metadata": {
        "id": "TWCqz2qnxVB2",
        "colab_type": "code",
        "outputId": "8c07838a-8b5b-4cce-feb7-b07e8e9e84a1",
        "colab": {
          "base_uri": "https://localhost:8080/",
          "height": 255
        }
      },
      "source": [
        "benimmodelim.summary()"
      ],
      "execution_count": 357,
      "outputs": [
        {
          "output_type": "stream",
          "text": [
            "Model: \"sequential_7\"\n",
            "_________________________________________________________________\n",
            "Layer (type)                 Output Shape              Param #   \n",
            "=================================================================\n",
            "flatten_7 (Flatten)          (None, 784)               0         \n",
            "_________________________________________________________________\n",
            "dense_14 (Dense)             (None, 128)               100480    \n",
            "_________________________________________________________________\n",
            "dense_15 (Dense)             (None, 10)                1290      \n",
            "=================================================================\n",
            "Total params: 101,770\n",
            "Trainable params: 101,770\n",
            "Non-trainable params: 0\n",
            "_________________________________________________________________\n"
          ],
          "name": "stdout"
        }
      ]
    },
    {
      "cell_type": "code",
      "metadata": {
        "id": "G1Njv4kOt7wn",
        "colab_type": "code",
        "outputId": "ba58203f-5fa0-42a7-d01e-db0e258196f9",
        "colab": {
          "base_uri": "https://localhost:8080/",
          "height": 391
        }
      },
      "source": [
        "benimmodelim.fit(X_train, y_train, epochs=10 )\n"
      ],
      "execution_count": 358,
      "outputs": [
        {
          "output_type": "stream",
          "text": [
            "Train on 60000 samples\n",
            "Epoch 1/10\n",
            "60000/60000 [==============================] - 5s 76us/sample - loss: 0.2663 - acc: 0.9240\n",
            "Epoch 2/10\n",
            "60000/60000 [==============================] - 5s 78us/sample - loss: 0.1176 - acc: 0.9650\n",
            "Epoch 3/10\n",
            "60000/60000 [==============================] - 5s 76us/sample - loss: 0.0796 - acc: 0.9765\n",
            "Epoch 4/10\n",
            "60000/60000 [==============================] - 4s 75us/sample - loss: 0.0597 - acc: 0.9810\n",
            "Epoch 5/10\n",
            "60000/60000 [==============================] - 4s 73us/sample - loss: 0.0458 - acc: 0.9859\n",
            "Epoch 6/10\n",
            "60000/60000 [==============================] - 5s 79us/sample - loss: 0.0367 - acc: 0.9890\n",
            "Epoch 7/10\n",
            "60000/60000 [==============================] - 5s 82us/sample - loss: 0.0294 - acc: 0.9908\n",
            "Epoch 8/10\n",
            "60000/60000 [==============================] - 5s 83us/sample - loss: 0.0240 - acc: 0.9925\n",
            "Epoch 9/10\n",
            "60000/60000 [==============================] - 4s 73us/sample - loss: 0.0192 - acc: 0.9940\n",
            "Epoch 10/10\n",
            "60000/60000 [==============================] - 4s 72us/sample - loss: 0.0167 - acc: 0.9949\n"
          ],
          "name": "stdout"
        },
        {
          "output_type": "execute_result",
          "data": {
            "text/plain": [
              "<tensorflow.python.keras.callbacks.History at 0x7f290da8aa20>"
            ]
          },
          "metadata": {
            "tags": []
          },
          "execution_count": 358
        }
      ]
    },
    {
      "cell_type": "code",
      "metadata": {
        "id": "Zpbr9gXr04wx",
        "colab_type": "code",
        "outputId": "a193c67c-82dd-4e82-d719-8e7d52aa9977",
        "colab": {
          "base_uri": "https://localhost:8080/",
          "height": 51
        }
      },
      "source": [
        "Test_kayiplari, test_sonuc = benimmodelim.evaluate(X_test,  y_test, verbose=2)\n",
        "\n",
        "print('Test sonucu doğruluğu=', test_sonuc)"
      ],
      "execution_count": 359,
      "outputs": [
        {
          "output_type": "stream",
          "text": [
            "10000/10000 - 0s - loss: 0.0758 - acc: 0.9793\n",
            "Test sonucu doğruluğu= 0.9793\n"
          ],
          "name": "stdout"
        }
      ]
    },
    {
      "cell_type": "code",
      "metadata": {
        "id": "icFpu_nt04ug",
        "colab_type": "code",
        "outputId": "dbde7e83-ce58-4954-da6e-7c0a5df19179",
        "colab": {
          "base_uri": "https://localhost:8080/",
          "height": 34
        }
      },
      "source": [
        "y_test[0]"
      ],
      "execution_count": 360,
      "outputs": [
        {
          "output_type": "execute_result",
          "data": {
            "text/plain": [
              "7"
            ]
          },
          "metadata": {
            "tags": []
          },
          "execution_count": 360
        }
      ]
    },
    {
      "cell_type": "code",
      "metadata": {
        "id": "zueoWkjdMEI-",
        "colab_type": "code",
        "colab": {}
      },
      "source": [
        "sonuc_tahmin = benimmodelim.predict(X_test)"
      ],
      "execution_count": 0,
      "outputs": []
    },
    {
      "cell_type": "code",
      "metadata": {
        "id": "b0q_Z1_gMEE3",
        "colab_type": "code",
        "outputId": "84e4439c-4cad-4a8d-dfce-8e66c03f5579",
        "colab": {
          "base_uri": "https://localhost:8080/",
          "height": 68
        }
      },
      "source": [
        "sonuc_tahmin[0]"
      ],
      "execution_count": 362,
      "outputs": [
        {
          "output_type": "execute_result",
          "data": {
            "text/plain": [
              "array([1.0727106e-08, 2.1258618e-08, 6.4504371e-07, 3.3432673e-04,\n",
              "       2.0232533e-11, 2.8920956e-08, 1.4270802e-13, 9.9966097e-01,\n",
              "       4.7106230e-08, 3.9954070e-06], dtype=float32)"
            ]
          },
          "metadata": {
            "tags": []
          },
          "execution_count": 362
        }
      ]
    },
    {
      "cell_type": "code",
      "metadata": {
        "id": "tcNvkJfLOKNY",
        "colab_type": "code",
        "outputId": "0e8ed591-a923-4d8a-dea0-cb7ec8087c3c",
        "colab": {
          "base_uri": "https://localhost:8080/",
          "height": 34
        }
      },
      "source": [
        "np.argmax(sonuc_tahmin[0])"
      ],
      "execution_count": 363,
      "outputs": [
        {
          "output_type": "execute_result",
          "data": {
            "text/plain": [
              "7"
            ]
          },
          "metadata": {
            "tags": []
          },
          "execution_count": 363
        }
      ]
    },
    {
      "cell_type": "code",
      "metadata": {
        "id": "ltN0yZ_ROKI6",
        "colab_type": "code",
        "outputId": "464bff26-87bb-431b-8feb-83fa3d7a8b6e",
        "colab": {
          "base_uri": "https://localhost:8080/",
          "height": 34
        }
      },
      "source": [
        "y_test[0]"
      ],
      "execution_count": 364,
      "outputs": [
        {
          "output_type": "execute_result",
          "data": {
            "text/plain": [
              "7"
            ]
          },
          "metadata": {
            "tags": []
          },
          "execution_count": 364
        }
      ]
    },
    {
      "cell_type": "code",
      "metadata": {
        "id": "ifMA8H4jOdQD",
        "colab_type": "code",
        "colab": {}
      },
      "source": [
        "def plot_image(i, sonuc_tahmin_array, true_label, img):\n",
        "  sonuc_tahmin_array, true_label, img = sonuc_tahmin_array, true_label[i], img[i]\n",
        "  plt.grid(False)\n",
        "  plt.xticks([])\n",
        "  plt.yticks([])\n",
        "\n",
        "  plt.imshow(img, cmap=plt.cm.binary)\n",
        "\n",
        "  predicted_label = np.argmax(sonuc_tahmin_array)\n",
        "  if predicted_label == true_label:\n",
        "    color = 'brown'\n",
        "  else:\n",
        "    color = 'orange'\n",
        "\n",
        "  plt.xlabel(\"{} {:2.0f}% ({})\".format(el_yazisi[predicted_label],\n",
        "                                100*np.max(sonuc_tahmin_array),\n",
        "                               el_yazisi[true_label]),\n",
        "                                color=color)\n",
        "\n",
        "def plot_value_array(i, sonuc_tahmin_array, true_label):\n",
        " sonuc_tahmin_array, true_label = sonuc_tahmin_array, true_label[i]\n",
        "  \n",
        "  "
      ],
      "execution_count": 0,
      "outputs": []
    },
    {
      "cell_type": "code",
      "metadata": {
        "id": "JN4RXFvPOdds",
        "colab_type": "code",
        "outputId": "e4520fae-731a-4ae9-e217-aa95fb801307",
        "colab": {
          "base_uri": "https://localhost:8080/",
          "height": 172
        }
      },
      "source": [
        "\n",
        "i = 0\n",
        "plt.figure(figsize=(5,3))\n",
        "plt.subplot(1,2,1)\n",
        "plot_image(i, sonuc_tahmin[i], y_test, X_test)\n",
        "\n"
      ],
      "execution_count": 366,
      "outputs": [
        {
          "output_type": "display_data",
          "data": {
            "image/png": "[encoded data removed]",
            "text/plain": [
              "<Figure size 360x216 with 1 Axes>"
            ]
          },
          "metadata": {
            "tags": []
          }
        }
      ]
    },
    {
      "cell_type": "code",
      "metadata": {
        "id": "cK1ML0TIYr7i",
        "colab_type": "code",
        "outputId": "69863bcd-1dd1-4136-b9fd-4e79944fa051",
        "colab": {
          "base_uri": "https://localhost:8080/",
          "height": 480
        }
      },
      "source": [
        "\n",
        "\n",
        "# İlk X test görüntüsünü, tahmin edilen etiketlerini ve gerçek etiketleri çizin.\n",
        "# Mavi renkte doğru tahminler ve kırmızıda yanlış tahminler.\n",
        "num_rows = 4\n",
        "num_cols = 4\n",
        "num_images = num_rows*num_cols\n",
        "plt.figure(figsize=(2*2*num_cols, 2*num_rows))\n",
        "for i in range(num_images):\n",
        "  plt.subplot(num_rows, 2*num_cols, 2*i+1)\n",
        "  plot_image(i, sonuc_tahmin[i], y_test, X_test)\n",
        "  \n",
        " \n"
      ],
      "execution_count": 367,
      "outputs": [
        {
          "output_type": "display_data",
          "data": {
            "image/png": "[encoded data removed]",
            "text/plain": [
              "<Figure size 1152x576 with 16 Axes>"
            ]
          },
          "metadata": {
            "tags": []
          }
        }
      ]
    },
    {
      "cell_type": "code",
      "metadata": {
        "id": "9ZKjEVnlY-FT",
        "colab_type": "code",
        "outputId": "5bf8e304-d5be-4791-8371-a4317c3f152b",
        "colab": {
          "base_uri": "https://localhost:8080/",
          "height": 34
        }
      },
      "source": [
        "\n",
        "# Test veri kümesinden bir görüntü alın.\n",
        "img = X_test[1]\n",
        "\n",
        "print(img.shape)"
      ],
      "execution_count": 368,
      "outputs": [
        {
          "output_type": "stream",
          "text": [
            "(28, 28)\n"
          ],
          "name": "stdout"
        }
      ]
    },
    {
      "cell_type": "code",
      "metadata": {
        "id": "mgUp0d31ZHFr",
        "colab_type": "code",
        "outputId": "144b75c9-bc3d-4fd9-e48c-967eb376439c",
        "colab": {
          "base_uri": "https://localhost:8080/",
          "height": 34
        }
      },
      "source": [
        "\n",
        "# Görüntüyü tek üye olduğu bir gruba ekleyin.\n",
        "img = (np.expand_dims(img,0))\n",
        "\n",
        "print(img.shape)"
      ],
      "execution_count": 369,
      "outputs": [
        {
          "output_type": "stream",
          "text": [
            "(1, 28, 28)\n"
          ],
          "name": "stdout"
        }
      ]
    }
  ]
}