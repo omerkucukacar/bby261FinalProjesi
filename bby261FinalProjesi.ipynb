{
  "nbformat": 4,
  "nbformat_minor": 0,
  "metadata": {
    "colab": {
      "name": "bby261FinalProjesi",
      "provenance": [],
      "collapsed_sections": [],
      "include_colab_link": true
    },
    "kernelspec": {
      "display_name": "Python 3",
      "name": "python3"
    }
  },
  "cells": [
    {
      "cell_type": "markdown",
      "metadata": {
        "id": "view-in-github",
        "colab_type": "text"
      },
      "source": [
        "<a href=\"https://colab.research.google.com/github/omerkucukacar/bby261FinalProjesi/blob/master/bby261FinalProjesi.ipynb\" target=\"_parent\"><img src=\"https://colab.research.google.com/assets/colab-badge.svg\" alt=\"Open In Colab\"/></a>"
      ]
    },
    {
      "cell_type": "code",
      "metadata": {
        "id": "jIrP3qquEcOr",
        "colab_type": "code",
        "colab": {
          "base_uri": "https://localhost:8080/",
          "height": 80
        },
        "outputId": "26c8eaa0-9b55-4568-c497-af488756d2fd"
      },
      "source": [
        "#okunacak kütüphanaler\n",
        "from keras.datasets import mnist\n",
        "import matplotlib.pyplot as plt\n",
        "from IPython.display import Image\n",
        "import tensorflow as tf\n",
        "from tensorflow import keras\n",
        "import numpy as np\n",
        "import matplotlib.pyplot as plt\n",
        "\n",
        "\n",
        "\n"
      ],
      "execution_count": 4,
      "outputs": [
        {
          "output_type": "stream",
          "text": [
            "Using TensorFlow backend.\n"
          ],
          "name": "stderr"
        },
        {
          "output_type": "display_data",
          "data": {
            "text/html": [
              "<p style=\"color: red;\">\n",
              "The default version of TensorFlow in Colab will soon switch to TensorFlow 2.x.<br>\n",
              "We recommend you <a href=\"https://www.tensorflow.org/guide/migrate\" target=\"_blank\">upgrade</a> now \n",
              "or ensure your notebook will continue to use TensorFlow 1.x via the <code>%tensorflow_version 1.x</code> magic:\n",
              "<a href=\"https://colab.research.google.com/notebooks/tensorflow_version.ipynb\" target=\"_blank\">more info</a>.</p>\n"
            ],
            "text/plain": [
              "<IPython.core.display.HTML object>"
            ]
          },
          "metadata": {
            "tags": []
          }
        }
      ]
    },
    {
      "cell_type": "code",
      "metadata": {
        "id": "PFGBjwCJEcSX",
        "colab_type": "code",
        "colab": {
          "base_uri": "https://localhost:8080/",
          "height": 51
        },
        "outputId": "f4d216ac-f765-4b96-c5bd-c15898e1c512"
      },
      "source": [
        "mnist = mnist\n",
        "\n",
        "(X_train, y_train), (X_test, y_test) = mnist.load_data()"
      ],
      "execution_count": 5,
      "outputs": [
        {
          "output_type": "stream",
          "text": [
            "Downloading data from https://s3.amazonaws.com/img-datasets/mnist.npz\n",
            "11493376/11490434 [==============================] - 2s 0us/step\n"
          ],
          "name": "stdout"
        }
      ]
    },
    {
      "cell_type": "code",
      "metadata": {
        "id": "0otft3TWEcZO",
        "colab_type": "code",
        "colab": {}
      },
      "source": [
        "trainX = X_train.reshape((X_train.shape[0], 28, 28, 1))\n",
        "testX = X_test.reshape((X_test.shape[0], 28, 28, 1))\n",
        "trainX = trainX/255\n",
        "testX = testX/255"
      ],
      "execution_count": 0,
      "outputs": []
    },
    {
      "cell_type": "code",
      "metadata": {
        "id": "LYcoKEgTotkc",
        "colab_type": "code",
        "colab": {}
      },
      "source": [
        "# El yazısının tahmin edileceği rakamlar\n",
        "el_yazisi = [\n",
        "               '0', \n",
        "              '1', \n",
        "               '2',\n",
        "               '3', \n",
        "              '4',\n",
        "               '5',\n",
        "               '6', \n",
        "               '7',\n",
        "               '8', \n",
        "               '9']\n",
        "\n",
        "\n",
        "\n",
        "               "
      ],
      "execution_count": 0,
      "outputs": []
    },
    {
      "cell_type": "code",
      "metadata": {
        "id": "cYVICwxSmdFP",
        "colab_type": "code",
        "outputId": "23ec0859-d570-4431-da55-964f9dbfe4a6",
        "colab": {
          "base_uri": "https://localhost:8080/",
          "height": 34
        }
      },
      "source": [
        "X_train.shape\n"
      ],
      "execution_count": 8,
      "outputs": [
        {
          "output_type": "execute_result",
          "data": {
            "text/plain": [
              "(60000, 28, 28)"
            ]
          },
          "metadata": {
            "tags": []
          },
          "execution_count": 8
        }
      ]
    },
    {
      "cell_type": "code",
      "metadata": {
        "id": "QcQmrUqYmh3u",
        "colab_type": "code",
        "outputId": "eab4ef3d-08c1-4058-a948-c89cbe249425",
        "colab": {
          "base_uri": "https://localhost:8080/",
          "height": 34
        }
      },
      "source": [
        "len(y_train)"
      ],
      "execution_count": 9,
      "outputs": [
        {
          "output_type": "execute_result",
          "data": {
            "text/plain": [
              "60000"
            ]
          },
          "metadata": {
            "tags": []
          },
          "execution_count": 9
        }
      ]
    },
    {
      "cell_type": "code",
      "metadata": {
        "id": "6yWvdr_XoynO",
        "colab_type": "code",
        "outputId": "d3ea6961-340a-4363-d2fb-582439dc5f98",
        "colab": {
          "base_uri": "https://localhost:8080/",
          "height": 34
        }
      },
      "source": [
        "y_train"
      ],
      "execution_count": 10,
      "outputs": [
        {
          "output_type": "execute_result",
          "data": {
            "text/plain": [
              "array([5, 0, 4, ..., 5, 6, 8], dtype=uint8)"
            ]
          },
          "metadata": {
            "tags": []
          },
          "execution_count": 10
        }
      ]
    },
    {
      "cell_type": "code",
      "metadata": {
        "id": "Y6arFwyCmudk",
        "colab_type": "code",
        "outputId": "2b64b09a-81a7-45ad-e6d4-fd6c9b64a5ef",
        "colab": {
          "base_uri": "https://localhost:8080/",
          "height": 34
        }
      },
      "source": [
        "X_test.shape"
      ],
      "execution_count": 11,
      "outputs": [
        {
          "output_type": "execute_result",
          "data": {
            "text/plain": [
              "(10000, 28, 28)"
            ]
          },
          "metadata": {
            "tags": []
          },
          "execution_count": 11
        }
      ]
    },
    {
      "cell_type": "code",
      "metadata": {
        "id": "gW5g8Xp5mynQ",
        "colab_type": "code",
        "outputId": "ed0756f7-866c-41fc-f810-01f13097fa58",
        "colab": {
          "base_uri": "https://localhost:8080/",
          "height": 34
        }
      },
      "source": [
        "len(y_test)"
      ],
      "execution_count": 12,
      "outputs": [
        {
          "output_type": "execute_result",
          "data": {
            "text/plain": [
              "10000"
            ]
          },
          "metadata": {
            "tags": []
          },
          "execution_count": 12
        }
      ]
    },
    {
      "cell_type": "code",
      "metadata": {
        "id": "KxRvC1j2EcV7",
        "colab_type": "code",
        "outputId": "1522e69d-4650-460c-a6c2-ac65899fc173",
        "colab": {
          "base_uri": "https://localhost:8080/",
          "height": 269
        }
      },
      "source": [
        "import matplotlib.pyplot as plt\n",
        "\n",
        "\n",
        "plt.imshow(X_train[0],cmap=plt.get_cmap('gray'))\n",
        "plt.colorbar()\n",
        "plt.grid(False)\n",
        "plt.show()\n",
        "\n",
        "# El yazısı Şeklinde Grafiği göster\n",
        "plt.show()\n"
      ],
      "execution_count": 35,
      "outputs": [
        {
          "output_type": "display_data",
          "data": {
            "image/png": "[encoded data removed]",
            "text/plain": [
              "<Figure size 432x288 with 2 Axes>"
            ]
          },
          "metadata": {
            "tags": []
          }
        }
      ]
    },
    {
      "cell_type": "code",
      "metadata": {
        "id": "0NdOzBxxmLc1",
        "colab_type": "code",
        "colab": {}
      },
      "source": [
        "X_train = X_train / 255.0\n",
        "\n",
        "X_test = X_test / 255.0"
      ],
      "execution_count": 0,
      "outputs": []
    },
    {
      "cell_type": "code",
      "metadata": {
        "id": "wY2WHP8MpuQ0",
        "colab_type": "code",
        "outputId": "de5eb94a-abd8-4d33-ba84-2849a9ef80d7",
        "colab": {
          "base_uri": "https://localhost:8080/",
          "height": 589
        }
      },
      "source": [
        "plt.figure(figsize=(10,10))\n",
        "for i in range(16):\n",
        "    plt.subplot(4,4,i+1)\n",
        "    plt.xticks([])\n",
        "    plt.yticks([])\n",
        "    plt.grid(False)\n",
        "    plt.imshow(X_train[i], cmap=plt.cm.binary)\n",
        "    plt.xlabel(el_yazisi[y_train[i]])\n",
        "plt.show()"
      ],
      "execution_count": 37,
      "outputs": [
        {
          "output_type": "display_data",
          "data": {
            "image/png": "[encoded data removed]",
            "text/plain": [
              "<Figure size 720x720 with 16 Axes>"
            ]
          },
          "metadata": {
            "tags": []
          }
        }
      ]
    },
    {
      "cell_type": "code",
      "metadata": {
        "id": "yQHmEEUDRInc",
        "colab_type": "code",
        "colab": {}
      },
      "source": [
        "trainY =(y_train,10)\n",
        "testY = (y_test,10)"
      ],
      "execution_count": 0,
      "outputs": []
    },
    {
      "cell_type": "code",
      "metadata": {
        "id": "VTxwbpVbEqIy",
        "colab_type": "code",
        "colab": {
          "base_uri": "https://localhost:8080/",
          "height": 88
        },
        "outputId": "a9ee53eb-1214-4227-b4b2-4f4ea2cb6b85"
      },
      "source": [
        "benimmodelim= keras.Sequential([\n",
        "    keras.layers.Flatten(input_shape=(28, 28)),\n",
        "    keras.layers.Dense(128, activation='relu'),\n",
        "    keras.layers.Dense(10, activation='softmax')\n",
        "])\n"
      ],
      "execution_count": 17,
      "outputs": [
        {
          "output_type": "stream",
          "text": [
            "WARNING:tensorflow:From /usr/local/lib/python3.6/dist-packages/tensorflow_core/python/ops/resource_variable_ops.py:1630: calling BaseResourceVariable.__init__ (from tensorflow.python.ops.resource_variable_ops) with constraint is deprecated and will be removed in a future version.\n",
            "Instructions for updating:\n",
            "If using Keras pass *_constraint arguments to layers.\n"
          ],
          "name": "stdout"
        }
      ]
    },
    {
      "cell_type": "code",
      "metadata": {
        "id": "6qAAK-vgEtX_",
        "colab_type": "code",
        "colab": {}
      },
      "source": [
        "benimmodelim.compile(optimizer='adam',loss='sparse_categorical_crossentropy',metrics=['accuracy'])"
      ],
      "execution_count": 0,
      "outputs": []
    },
    {
      "cell_type": "code",
      "metadata": {
        "id": "TWCqz2qnxVB2",
        "colab_type": "code",
        "outputId": "14bb5d5e-ee1e-4ff7-e495-f192a7260229",
        "colab": {
          "base_uri": "https://localhost:8080/",
          "height": 255
        }
      },
      "source": [
        "benimmodelim.summary()"
      ],
      "execution_count": 19,
      "outputs": [
        {
          "output_type": "stream",
          "text": [
            "Model: \"sequential\"\n",
            "_________________________________________________________________\n",
            "Layer (type)                 Output Shape              Param #   \n",
            "=================================================================\n",
            "flatten (Flatten)            (None, 784)               0         \n",
            "_________________________________________________________________\n",
            "dense (Dense)                (None, 128)               100480    \n",
            "_________________________________________________________________\n",
            "dense_1 (Dense)              (None, 10)                1290      \n",
            "=================================================================\n",
            "Total params: 101,770\n",
            "Trainable params: 101,770\n",
            "Non-trainable params: 0\n",
            "_________________________________________________________________\n"
          ],
          "name": "stdout"
        }
      ]
    },
    {
      "cell_type": "code",
      "metadata": {
        "id": "G1Njv4kOt7wn",
        "colab_type": "code",
        "outputId": "bd50affd-0b6e-452a-fd73-d5970e9d92f9",
        "colab": {
          "base_uri": "https://localhost:8080/",
          "height": 391
        }
      },
      "source": [
        "benimmodelim.fit(X_train, y_train, epochs=10 )\n"
      ],
      "execution_count": 20,
      "outputs": [
        {
          "output_type": "stream",
          "text": [
            "Train on 60000 samples\n",
            "Epoch 1/10\n",
            "60000/60000 [==============================] - 4s 71us/sample - loss: 0.2578 - acc: 0.9266\n",
            "Epoch 2/10\n",
            "60000/60000 [==============================] - 4s 67us/sample - loss: 0.1119 - acc: 0.9669\n",
            "Epoch 3/10\n",
            "60000/60000 [==============================] - 4s 66us/sample - loss: 0.0765 - acc: 0.9763\n",
            "Epoch 4/10\n",
            "60000/60000 [==============================] - 4s 65us/sample - loss: 0.0570 - acc: 0.9825\n",
            "Epoch 5/10\n",
            "60000/60000 [==============================] - 4s 65us/sample - loss: 0.0451 - acc: 0.9859\n",
            "Epoch 6/10\n",
            "60000/60000 [==============================] - 4s 65us/sample - loss: 0.0351 - acc: 0.9898\n",
            "Epoch 7/10\n",
            "60000/60000 [==============================] - 4s 65us/sample - loss: 0.0283 - acc: 0.9914\n",
            "Epoch 8/10\n",
            "60000/60000 [==============================] - 4s 64us/sample - loss: 0.0234 - acc: 0.9930\n",
            "Epoch 9/10\n",
            "60000/60000 [==============================] - 4s 65us/sample - loss: 0.0182 - acc: 0.9945\n",
            "Epoch 10/10\n",
            "60000/60000 [==============================] - 4s 66us/sample - loss: 0.0156 - acc: 0.9949\n"
          ],
          "name": "stdout"
        },
        {
          "output_type": "execute_result",
          "data": {
            "text/plain": [
              "<tensorflow.python.keras.callbacks.History at 0x7fa674950d30>"
            ]
          },
          "metadata": {
            "tags": []
          },
          "execution_count": 20
        }
      ]
    },
    {
      "cell_type": "code",
      "metadata": {
        "id": "Zpbr9gXr04wx",
        "colab_type": "code",
        "outputId": "72eff2e1-af18-4005-e253-950b02d08b47",
        "colab": {
          "base_uri": "https://localhost:8080/",
          "height": 51
        }
      },
      "source": [
        "Test_kayiplari, test_sonuc = benimmodelim.evaluate(X_test,  y_test, verbose=2)\n",
        "\n",
        "print('Test sonucu doğruluğu=', test_sonuc)"
      ],
      "execution_count": 21,
      "outputs": [
        {
          "output_type": "stream",
          "text": [
            "10000/10000 - 0s - loss: 0.0837 - acc: 0.9789\n",
            "Test sonucu doğruluğu= 0.9789\n"
          ],
          "name": "stdout"
        }
      ]
    },
    {
      "cell_type": "code",
      "metadata": {
        "id": "icFpu_nt04ug",
        "colab_type": "code",
        "outputId": "b9cbf5e5-7f4a-4af0-b370-70eff0c291c7",
        "colab": {
          "base_uri": "https://localhost:8080/",
          "height": 34
        }
      },
      "source": [
        "y_test[0]"
      ],
      "execution_count": 22,
      "outputs": [
        {
          "output_type": "execute_result",
          "data": {
            "text/plain": [
              "7"
            ]
          },
          "metadata": {
            "tags": []
          },
          "execution_count": 22
        }
      ]
    },
    {
      "cell_type": "code",
      "metadata": {
        "id": "zueoWkjdMEI-",
        "colab_type": "code",
        "colab": {}
      },
      "source": [
        "sonuc_tahmin = benimmodelim.predict(X_test)"
      ],
      "execution_count": 0,
      "outputs": []
    },
    {
      "cell_type": "code",
      "metadata": {
        "id": "b0q_Z1_gMEE3",
        "colab_type": "code",
        "outputId": "0b594cf6-a7e9-461e-8fe2-0480e65ba3a3",
        "colab": {
          "base_uri": "https://localhost:8080/",
          "height": 68
        }
      },
      "source": [
        "sonuc_tahmin[0]"
      ],
      "execution_count": 24,
      "outputs": [
        {
          "output_type": "execute_result",
          "data": {
            "text/plain": [
              "array([1.80213233e-10, 1.15653244e-10, 1.46994203e-08, 3.74026058e-06,\n",
              "       3.87345131e-13, 1.25056108e-08, 6.59760474e-16, 9.99995947e-01,\n",
              "       8.36387137e-09, 4.05757390e-07], dtype=float32)"
            ]
          },
          "metadata": {
            "tags": []
          },
          "execution_count": 24
        }
      ]
    },
    {
      "cell_type": "code",
      "metadata": {
        "id": "tcNvkJfLOKNY",
        "colab_type": "code",
        "outputId": "1314030f-cb2b-4b1b-c487-48bad8f520b5",
        "colab": {
          "base_uri": "https://localhost:8080/",
          "height": 34
        }
      },
      "source": [
        "np.argmax(sonuc_tahmin[0])"
      ],
      "execution_count": 25,
      "outputs": [
        {
          "output_type": "execute_result",
          "data": {
            "text/plain": [
              "7"
            ]
          },
          "metadata": {
            "tags": []
          },
          "execution_count": 25
        }
      ]
    },
    {
      "cell_type": "code",
      "metadata": {
        "id": "ltN0yZ_ROKI6",
        "colab_type": "code",
        "outputId": "69976357-8dce-49c4-a655-6d42fadd5484",
        "colab": {
          "base_uri": "https://localhost:8080/",
          "height": 34
        }
      },
      "source": [
        "y_test[0]"
      ],
      "execution_count": 26,
      "outputs": [
        {
          "output_type": "execute_result",
          "data": {
            "text/plain": [
              "7"
            ]
          },
          "metadata": {
            "tags": []
          },
          "execution_count": 26
        }
      ]
    },
    {
      "cell_type": "code",
      "metadata": {
        "id": "ifMA8H4jOdQD",
        "colab_type": "code",
        "colab": {}
      },
      "source": [
        "def plot_image(i, sonuc_tahmin_array, true_label, img):\n",
        "  sonuc_tahmin_array, true_label, img = sonuc_tahmin_array, true_label[i], img[i]\n",
        "  plt.grid(False)\n",
        "  plt.xticks([])\n",
        "  plt.yticks([])\n",
        "\n",
        "  plt.imshow(img, cmap=plt.cm.binary)\n",
        "\n",
        "  predicted_label = np.argmax(sonuc_tahmin_array)\n",
        "  if predicted_label == true_label:\n",
        "    color = 'brown'\n",
        "  else:\n",
        "    color = 'orange'\n",
        "\n",
        "  plt.xlabel(\"{} {:2.0f}% ({})\".format(el_yazisi[predicted_label],\n",
        "                                100*np.max(sonuc_tahmin_array),\n",
        "                               el_yazisi[true_label]),\n",
        "                                color=color)\n",
        "\n",
        "def plot_value_array(i, sonuc_tahmin_array, true_label):\n",
        " sonuc_tahmin_array, true_label = sonuc_tahmin_array, true_label[i]\n",
        "  \n",
        "  "
      ],
      "execution_count": 0,
      "outputs": []
    },
    {
      "cell_type": "code",
      "metadata": {
        "id": "JN4RXFvPOdds",
        "colab_type": "code",
        "outputId": "6aa895f1-b237-4407-e856-c33c01ea0f3c",
        "colab": {
          "base_uri": "https://localhost:8080/",
          "height": 172
        }
      },
      "source": [
        "\n",
        "i = 0\n",
        "plt.figure(figsize=(5,3))\n",
        "plt.subplot(1,2,1)\n",
        "plot_image(i, sonuc_tahmin[i], y_test, X_test)\n",
        "\n"
      ],
      "execution_count": 28,
      "outputs": [
        {
          "output_type": "display_data",
          "data": {
            "image/png": "[encoded data removed]",
            "text/plain": [
              "<Figure size 360x216 with 1 Axes>"
            ]
          },
          "metadata": {
            "tags": []
          }
        }
      ]
    },
    {
      "cell_type": "code",
      "metadata": {
        "id": "cK1ML0TIYr7i",
        "colab_type": "code",
        "outputId": "aab8feb7-892d-4f27-bb93-76c527616a2a",
        "colab": {
          "base_uri": "https://localhost:8080/",
          "height": 480
        }
      },
      "source": [
        "\n",
        "\n",
        "# İlk X test görüntüsünü, tahmin edilen etiketlerini ve gerçek etiketleri çizin.\n",
        "# Mavi renkte doğru tahminler ve kırmızıda yanlış tahminler.\n",
        "num_rows = 4\n",
        "num_cols = 4\n",
        "num_images = num_rows*num_cols\n",
        "plt.figure(figsize=(2*2*num_cols, 2*num_rows))\n",
        "for i in range(num_images):\n",
        "  plt.subplot(num_rows, 2*num_cols, 2*i+1)\n",
        "  plot_image(i, sonuc_tahmin[i], y_test, X_test)\n",
        "  \n",
        " \n"
      ],
      "execution_count": 29,
      "outputs": [
        {
          "output_type": "display_data",
          "data": {
            "image/png": "[encoded data removed]",
            "text/plain": [
              "<Figure size 1152x576 with 16 Axes>"
            ]
          },
          "metadata": {
            "tags": []
          }
        }
      ]
    },
    {
      "cell_type": "code",
      "metadata": {
        "id": "9ZKjEVnlY-FT",
        "colab_type": "code",
        "outputId": "470e84f3-f96e-43ce-dfb4-653865a20081",
        "colab": {
          "base_uri": "https://localhost:8080/",
          "height": 34
        }
      },
      "source": [
        "\n",
        "# Test veri kümesinden bir görüntü alın.\n",
        "img = X_test[1]\n",
        "\n",
        "print(img.shape)"
      ],
      "execution_count": 30,
      "outputs": [
        {
          "output_type": "stream",
          "text": [
            "(28, 28)\n"
          ],
          "name": "stdout"
        }
      ]
    },
    {
      "cell_type": "code",
      "metadata": {
        "id": "mgUp0d31ZHFr",
        "colab_type": "code",
        "outputId": "bd2d42ed-ca44-4d53-8c71-b5a46a0eec1c",
        "colab": {
          "base_uri": "https://localhost:8080/",
          "height": 34
        }
      },
      "source": [
        "\n",
        "# Görüntüyü tek üye olduğu bir gruba ekleyin.\n",
        "img = (np.expand_dims(img,0))\n",
        "\n",
        "print(img.shape)"
      ],
      "execution_count": 31,
      "outputs": [
        {
          "output_type": "stream",
          "text": [
            "(1, 28, 28)\n"
          ],
          "name": "stdout"
        }
      ]
    }
  ]
}