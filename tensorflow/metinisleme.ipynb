{
  "nbformat": 4,
  "nbformat_minor": 0,
  "metadata": {
    "colab": {
      "name": "Copy of metinisleme.ipynb",
      "provenance": [],
      "include_colab_link": true
    },
    "kernelspec": {
      "name": "python3",
      "display_name": "Python 3"
    }
  },
  "cells": [
    {
      "cell_type": "markdown",
      "metadata": {
        "id": "view-in-github",
        "colab_type": "text"
      },
      "source": [
        "<a href=\"https://colab.research.google.com/github/omerkucukacar/tensorflow/blob/master/metinisleme.ipynb\" target=\"_parent\"><img src=\"https://colab.research.google.com/assets/colab-badge.svg\" alt=\"Open In Colab\"/></a>"
      ]
    },
    {
      "cell_type": "code",
      "metadata": {
        "id": "_2nQJcyxQWg8",
        "colab_type": "code",
        "colab": {}
      },
      "source": [
        "from google.colab import files\n",
        "import string"
      ],
      "execution_count": 0,
      "outputs": []
    },
    {
      "cell_type": "markdown",
      "metadata": {
        "id": "HRyeeUH9S57F",
        "colab_type": "text"
      },
      "source": [
        "Dosya Yükleme"
      ]
    },
    {
      "cell_type": "code",
      "metadata": {
        "id": "gEuEcDW0QUyj",
        "colab_type": "code",
        "outputId": "a7eb5cc0-2430-433c-f9ff-3e066c904668",
        "colab": {
          "resources": {
            "http://localhost:8080/nbextensions/google.colab/files.js": {
              "data": "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",
              "ok": true,
              "headers": [
                [
                  "content-type",
                  "application/javascript"
                ]
              ],
              "status": 200,
              "status_text": ""
            }
          },
          "base_uri": "https://localhost:8080/",
          "height": 74
        }
      },
      "source": [
        "yuklenenDosya = files.upload()"
      ],
      "execution_count": 69,
      "outputs": [
        {
          "output_type": "display_data",
          "data": {
            "text/html": [
              "\n",
              "     <input type=\"file\" id=\"files-8183b99e-a257-4355-bf00-c0ce8b855281\" name=\"files[]\" multiple disabled />\n",
              "     <output id=\"result-8183b99e-a257-4355-bf00-c0ce8b855281\">\n",
              "      Upload widget is only available when the cell has been executed in the\n",
              "      current browser session. Please rerun this cell to enable.\n",
              "      </output>\n",
              "      <script src=\"/nbextensions/google.colab/files.js\"></script> "
            ],
            "text/plain": [
              "<IPython.core.display.HTML object>"
            ]
          },
          "metadata": {
            "tags": []
          }
        },
        {
          "output_type": "stream",
          "text": [
            "Saving a.txt to a (5).txt\n"
          ],
          "name": "stdout"
        }
      ]
    },
    {
      "cell_type": "markdown",
      "metadata": {
        "id": "AtZP7SgOTUWz",
        "colab_type": "text"
      },
      "source": [
        "Yüklenen Dosyanın Okunması"
      ]
    },
    {
      "cell_type": "code",
      "metadata": {
        "id": "_v0-AA2pQ46Z",
        "colab_type": "code",
        "outputId": "767e46eb-0201-4939-df13-16b5d4e8050c",
        "colab": {
          "base_uri": "https://localhost:8080/",
          "height": 71
        }
      },
      "source": [
        "article = open(\"a.txt\", \"rt\")\n",
        "readarticle = article.read()\n",
        "readarticle = readarticle.lower()\n",
        "article.close()\n",
        "print(readarticle)\n"
      ],
      "execution_count": 70,
      "outputs": [
        {
          "output_type": "stream",
          "text": [
            "açık veri (open data), herhangi bir telif hakkına sahip olmayan, herkes tarafından kullanılabilen, düzenlenebilen ve dağıtılabilen veridir. açık veride devletin şeffaflığı ve katılımı amaçlanır. açık veri sayesinde devletler de hem ekonomik hem de sosyal anlamda verimliliklerini artırabilir. veri herkese açık ve özgürce kullanılabilir olduğunda vatandaşların da farkındalığı artar. elbette ki açık veri üretiminin başlıca gerekliliği dijital formatlarda, yani makinece okunur olmasıdır (csv, xls, json, xml formatları). lisanslı, sürekli yenilenen, güvenli ve indeksli olmalıdır.veriye ulaşma konusunda gazetecilerin en sık kullandıkları ve en konvansiyonel yöntemlerin başında bilgi edinme hakkının kullanımı geliyor. anayasamızın 4982 sayılı bilgi edinme hakkı kanunu gereğince bütün vatandaşlar bilgi edinme hakkına sahiptir. devletin şeffaflığını amaçlayan bu kanun sayesinde bilgi almak istenilen bütün konular hakkında gerekli mercilere başvuru yapılabilir, var olan bütün verilere ulaşım sağlanabilir.çağımızda özellikle araştırmacı gazetecilik, dijital teknolojilerin sağladığı faydalarla artık çok daha şeffaf, çok daha sürdürülebilir. veri gazeteciliğinin odak noktası veriyi bulma, işleme, analiz etme, düzenleme, paylaşma ve görselleştirmektir. geleneksel anlamdaki araştırmacı gazetecilikten farkı, bulunan veriyi teknik anlamda nasıl işleyebileceğini ve büyük verileri nasıl iyileştirebileceğini bilen, günümüzün dijital ve bilgi çağında mobil dostu veri analizi ve görselleştirmesi yapabilen bir gazetecilik anlayışına sahip olmasıdır. veriyi topluma işlenmiş ve habere çevrilmiş bir şekilde sunan aracılar da diyebiliriz. bu sayede aslında geleneksel gazeteciliğe farklı bir boyut katarak onu günümüze yakınlaştırıyor.peki veri gazeteciliği ile açık veri arasındaki ilişki nedir? veri gazetecilerinin en çok ihtiyaç duydukları şey açık veriye ulaşabilmektir. açık veri, devletin şeffaflığını kamu yararına ortaya koyar. devletin yaptığı harcamalar, temiz suya ulaşım, hava kirliliği vb. alanlarda kamu yararına edinilen bütün bilgilerin açıklığı veri gazetecileri için çok büyük önem taşır. bu bilgiler çoğu ülkede bilgi edinme hakkı kapsamında ulaşılabilir durumda; “açık devlet” olmak, “açık toplum” yaratmak, “açık verileri” işlemek veri gazetecilerine daha anlaşılır ve daha güvenilir içerikler oluşturma imkânı tanır.big data, herhangi bir şey ya da herhangi bir durum hakkında ne kadar çok şey bildiğinizle ilgili olarak, daha güvenilir bir şekilde yeni kavrayışlar kazanabileceğinizi ve gelecekte ne olacağı konusunda tahminlerde bulunabileceğinizi ilke edinir.daha fazla veri noktasını karşılaştırarak, ilişkiler önceden gizlenmiş olarak ortaya çıkmaya başlar ve bu ilişkiler öğrenmemizi ve daha akıllı kararlar almamızı sağlar. en yaygın olarak, bu, toplayabileceğimiz verilere dayanarak yapı modelleri içeren bir işlemle yapılır ve daha sonra simülasyonlar çalıştırır, her seferinde veri noktalarının değerini değiştirir ve sonuçlarımızı nasıl etkilediğini izler.bu süreç otomatiktir – günümüzün gelişmiş analitik teknolojisi milyonlarca simülasyonu çalıştırarak, üzerinde çalıştığı problemi çözmeye yardımcı olan bir model veya bir kavrayış bulana kadar tüm olası değişkenleri ayarlayacaktır.nispeten yakın zamana kadar, veriler elektronik tablolar veya veritabanları ile sınırlıydı – ve hepsi çok düzenliydi. ancak, depolama ve analitik alanındaki ilerlemeler, birçok farklı türde veriyi yakalayabildiğimiz, depolayabildiğimiz ve çalışabileceğimiz anlamına gelir. sonuç olarak, “veri” artık veritabanlarından fotoğraflara, videolara, ses kayıtlarına, yazılı metin ve sensör verilerine kadar her şeyi ifade edebilir.veriler, dünyamızı ve yaşama tarzını daha önce görülmemiş bir oranda değiştirmektedir. big data bugün bunlardan her şeye yetiyorsa; sadece yarın neler yapabileceğini hayal edin. kullanılabilir olan veri miktarı sadece artacak ve analitik teknolojisi daha da ileriye taşınacaktır.açık bilim, araştırma çıktılarının (bilimsel yayınlar ve veriler) ve süreçlerinin, etik ve yasalar çerçevesinde özgürce erişilebilir olmasıdır. açık bilim ile açık erişim, açık araştırma verileri, açık metodoloji, açık eğitim, açık değerlendirme ve açık kaynaklar gibi kavramların tümü kapsanır. araştırmacıların bilimsel yayınlarının tam metinlerine finansal, yasal ve teknik engeller olmaksızın kamuya açık internet aracılığıyla ücretsiz olarak erişebilmelerine açık erişim denir. hiçbir bilim insanı, kamu kaynaklarıyla yürütülen araştırma yayınının pahalı dergilerde erişime kapalı kalmasını istemez. bugün birçok araştırmacının kaliteli yayını çevrimiçi ödeme duvarı ile ulaşılamaz durumdadır. hollanda, almanya ve ingiltere öncülüğünde 11 avrupa ülkesi bu konu ile ilgili devrim niteliğinde karar almıştır. avrupa komisyonu ve imzacı ülkeler 2020’yi kritik yıl ilan ederek “plan s” dedikleri bir avrupa insiyatifini başlatmışlardır. “plan s”, 4 s’yi (science=bilim, speed=hız, solution=çözüm ve shock=şok) kapsamaktadır. kararla, kamunun fonladığı/desteklediği araştırma sonuçlarının açık erişimli dergilerde yayınlanması şartı getirilmiştir. bu karar, %85’lik oranla makale yayın payına sahip yayınevlerini (elsevier gibi) ve dergileri (nature ve science gibi) zora sokacaktır. örneğin elsevier hollanda merkezli dünyanın en büyük yayınevi olup, bilimsel dergilerin %25’ini kontrol eder. the guardian’ın haberine göre bu yayınevi 2018’de 900 milyon sterlini aşkın kar yapmıştır. birleşik krallık üniversiteleri her yıl bu yayınevine dergi aboneliği karşılığı olarak toplam 200 milyon sterlin para ödemektedir. ingiltere’de devlet üniversiteleri artık bu parayı vermek istemiyor ve gelişmeler de bu yöndedir. bugün itibarı ile ingiltere’de kaliteli yayınların %50’si açık erişimde olup herkesin ulaşımına açıktır.gündemde olan yeni anlayış bütün araştırma yayın sistemini değiştirecektir. en önemlisi bilgiye erişilebilirlikte hiçbir engel kalmayacaktır. karşı görüşe sahip olanlar, sürecin akademik iletişimi zayıflatacağı ve akademik özgürlüğü yok edeceğini iddia etmektedir. gelişmeler üzerine yayıncılar geri adım atmışlar, yeni yayına erişimde 1 yıl kotası koymak ve sonrasında makaleleri ücretsiz erişime açmayı önermişlerdir. açık erişimde hollanda başı çekmekte olup 2024’ten itibaren bütün makalelere ücretsiz ulaşılabilecektir. bu ülke, 1 ocak 2020’den itibaren sadece, girdileri ve sonuçları (çıktıları) açık erişimde olan çalışmaları fonlayacaktır.teknolojik ilerlemeler, hızlı veriye ulaşma, veri merkezli iş modelleri, geleneksel iş yapma ve iş süreçlerini tehdit etmektedir. biz herkesin herkesle rekabet ettiği, üretim sektör firmalarının sigorta sattığı, otomotiv, bankacılık, sağlık, eğitim ve enerjinin mevcut yapılarının sorgulandığı ve yeni açılımların öne çıktığı bir çağda yaşıyoruz. bilimsel yayınlarda eski tarz yapılar sürdürülemezdir, çağın gerçekleriyle çelişmektedir ve doğru da değildir. bugün, araştırmacıların makalelerini ve telif haklarını yayıncıya ücretsiz verdiği, diğer araştırmacıların ücretsiz hakemlik yaptığı, üniversitelerin bu makalelere erişim için yüksek dergi aboneliği ödediği bir süreci yaşıyoruz. kamu tarafından dergi abonelik ücreti yanında iki ödeme daha yapılmaktadır. bunlar, araştırmacıya devletin verdiği maaş ve çalışana verilen araştırma proje desteği/teşviğidir. her aşamasında kamu kaynağı kullanılan bilimsel çıktıların kamuya açık olması artık zorunlu olmalıdır. buna yayınlar yanında patentler de dahil edilmelidir. avrupa’da başlayan bu dönüşüm bizim gibi gelişmekte olan ülkeler için önemli fırsatları yanında getirecektir. örneğin patent, erişim kısıtlılığı ve benzer alanda çalışmayı sınırladığından araştırmayı %30 düşürür. telif hakları ve patentlerin erişime açık tutulması veya kısa ambargo süreleri (6-12 ay) verilmesi bilimde/teknolojide sıçramaya yol açacaktır. bilim, zengin ulusların tekelinden çıkacak, bilgiye ulaşmada küresel demokrasi yaşanacaktır. özel sektör araştırma yayınları ve patentler bir süre sistemin dışında kalacak olup, buralarda da iyileşmeler beklenmektedir.ülkemizde yükseköğretim açık erişim sistemi 2014’ten beri gündemdedir. üniversitelerimiz arşivlerini, öğrenme malzemelerini, tezleri ve araştırmacıların yayınlarını büyük ölçüde paylaşıma ve açık erişime açmışlardır. \"avrupa açık erişim altyapısı (openaıre)\" ile bütünleşmenin sağlanması, \"akademisyenlerin araştırmacı numaraları (orc-ıd veya benzeri)\" kullanımına özen gösterilmesi aşamasına gelinmiştir. bununla birlikte biyografilere, yazılım kaynaklarına, dijital kaynaklara açık erişimin sağlanması ve araştırmacıların blog, twitter, facebook, linkedin gibi serbest iletişim ağlarını kullanarak bulgularını geniş kitlelere ulaştırmaları hedeflenmiştir. kısaca, yök’ün yükseköğretimde dijital dönüşüm projesi, “tüm yayınlar erişilebilir olmalı” ilkesini içermektedir ve bu konuda kayda değer yol alınmıştır.araştırma, yapanı için en zahmetli, satanı (yayınlayanı) için en kârlı alandır. araştırmayı 3’ü aşkın kez finanse eden kamusal otorite, uzun süre yayınlara erişim ve paylaşımı herkese açamadı. artık durum değişti! içinde bulunduğumuz dijital dönüşüm çağında yayınlara erişim önlenemez. örneğin kazak bir lisans-üstü öğrenci, sci-hub sitesi kurarak bu duvarı/engeli kaldırmış ve küresel fotokopi teması ile 2015 ve sonrası tüm paralı makaleleri ücretsiz olarak servise koyabilmiştir. bilimsel hakemli yayınlara ve verilere açık erişim, bilim, ekonomi ve toplumu dönüştürecektir.son yıllarda, küresel ölçekte bilgide duvarsızlık öne çıkarken, ticarette duvarlar yükseliyor! ülkeler arasında/toplumlar arasında da mülteci akışını durdurma adına duvarlar inşa ediliyor. hatırlayalım, berlin duvarı geçen asrın son çeyreğinde yıkılmamış mıydı? bazı duvarlar yıkılıyor, bazı duvarlar kuruluyor! bu ne yaman çelişki! şaşırtıcı değil mi?makine öğreniminde yer alan süreçler, veri madenciliği ve tahmin modellemesine benzerdir. her ikisi de, kalıpları aramak ve program eylemlerini buna göre ayarlamak için veri aramayı gerektirir. birçok kişi, internetten alışveriş yapmaktan ve satın alma işlemleriyle ilgili reklamlar yayınlamaktan makine öğrenimini bilmektedir. bunun nedeni, öneri motorlarının neredeyse gerçek zamanlı olarak çevrimiçi reklam yayınını kişiselleştirmek için makine öğrenimini kullanmasıdır. kişiselleştirilmiş pazarlamanın ötesinde, diğer yaygın makine öğrenimi kullanım durumları arasında sahtekârlık tespiti, spam filtreleme, ağ güvenliği tehdit algılama, tahmini bakım ve bina haber beslemeleri yer almaktadır.denetlenmeyen algoritmaların istenen sonuç verileriyle eğitilmesi gerekmez. bunun yerine, verileri gözden geçirmek ve sonuçlara varmak için derin öğrenme denen yinelemeli bir yaklaşım kullanırlar. denetimsiz öğrenme algoritmaları (aynı zamanda sinir ağları olarak da adlandırılır) görüntü tanıma, konuşma-metin ve doğal dil üretimi de dâhil olmak üzere denetimli öğrenme sistemlerinden daha karmaşık işlem görevleri için kullanılır. bu sinir ağları, milyonlarca eğitim verisi örneğini tarayarak ve birçok değişken arasında sıklıkla ince korelasyonları otomatik olarak tespit ederek çalışır. eğitildikten sonra, algoritma yeni verileri yorumlamak için veri bankasını kullanabilir. bu algoritmalar, büyük miktarlarda eğitim verisi gerektirdiğinden, büyük veri çağında ancak uygulanabilir hale gelmiştir.makine öğrenimi, kendi kendini süren araçlarda da önemli bir rol oynar. derin öğrenme nöral ağları, nesneleri tanımlamak ve bir aracı yolda güvenli bir şekilde yönlendirmek için en uygun eylemleri belirlemek için kullanılır.sanal asistan teknolojisi aynı zamanda makine öğrenimi ile de desteklenmektedir. akıllı asistanlar, doğal konuşmayı yorumlamak, bir kullanıcının kişisel programına veya önceden tanımlanmış tercihlerine benzer bir bağlam getirmek için bir dizi derin öğrenme modelini birleştirir ve bir uçuş rezervasyonu ya da araba yol tariflerini çekmek gibi harekete geçer.makine öğrenimi algoritmaları onlarca yıl boyunca sürerken, yapay zekâ (aı) ön plana çıktıkça yeni yeni popülariteye eriştiler. makine öğrenim platformları, amazon, google, microsoft, ıbm ve diğerleri de dâhil olmak üzere çoğu büyük satıcı ile veri toplama, veri hazırlama da dâhil olmak üzere makine öğrenimi etkinliklerinin yelpazesini kapsayan platform hizmetlerini imzalamak için yarışan kurumsal teknolojinin en rekabetçi firmalarıdır.kronolojik sıralamadanda görüleceği üzere yapay zekanın bir kolu olan makine öğrenimi aynı zamanda derin öğrenmeyi kapsayan bir başka yapay zeka alt bilim dalı.peki, nedir bu makine öğrenimi? ne işe yarar?makine öğrenmesi, mainenin sağlanan verilerle mantıklı ve rasyonel sonuçlar türetmesini sağlayan algoritmalardır.örnek verecek olursak; bir mağazada müşterilerin alışveriş fişi verileri ile ilgili algoritma yazılıyor. bu algoritma; cips alan müşterilerin aynı zamanda kola aldıkları bilgisini veriyor. bu duruma istinaden cips rafları ile kola dolapları birbirine yakınlaştırılıyor ve satışlarda yükseliş görülüyor. bir başka örnekte algoritmaya üzüm tanıtılacak. algoritmaya; beyaz, mor, yuvarlak gibi özellikler tanımlanıyor. üzüm ve muz'u makine öğrenimine sorunca hangisinin üzüm olduğunu tanımlanan bilgileri süzerek ve rasyonellik ilkesini benimseyerek karar veriyor. bu örnekte makine öğrenimini en basit haliyle ele aldık. makine öğrenimi günümüz teknolojilerinde akıl sınırlarını zorlayacak bilgileri bize sunuyor.kronolojik sıralamadanda görüleceği üzere yapay zekanın bir kolu olan makine öğrenimi aynı zamanda derin öğrenmeyi kapsayan bir başka yapay zeka alt bilim dalı.peki, nedir bu makine öğrenimi? ne işe yarar?makine öğrenmesi, makinenin sağlanan verilerle mantıklı ve rasyonel sonuçlar türetmesini sağlayan algoritmalardır.örnek verecek olursak; bir mağazada müşterilerin alışveriş fişi verileri ile ilgili algoritma yazılıyor. bu algoritma; cips alan müşterilerin aynı zamanda kola aldıkları bilgisini veriyor. bu duruma istinaden cips rafları ile kola dolapları birbirine yakınlaştırılıyor ve satışlarda yükseliş görülüyor. bir başka örnekte algoritmaya üzüm tanıtılacak. algoritmaya; beyaz, mor, yuvarlak gibi özellikler tanımlanıyor. üzüm ve muz'u makine öğrenimine sorunca hangisinin üzüm olduğunu tanımlanan bilgileri süzerek ve rasyonellik ilkesini benimseyerek karar veriyor. bu örnekte makine öğrenimini en basit haliyle ele aldık. makine öğrenimi günümüz teknolojilerinde akıl sınırlarını zorlayacak bilgileri bize sunuyor.\n",
            "\n"
          ],
          "name": "stdout"
        }
      ]
    },
    {
      "cell_type": "markdown",
      "metadata": {
        "id": "BJ4CTs2bhd5d",
        "colab_type": "text"
      },
      "source": [
        "Anahtar Kelimeler"
      ]
    },
    {
      "cell_type": "code",
      "metadata": {
        "colab_type": "code",
        "outputId": "70e61eb7-1fba-4053-fd92-1240a2c5a097",
        "id": "XWb2fcDlQILP",
        "colab": {
          "base_uri": "https://localhost:8080/",
          "height": 34
        }
      },
      "source": [
        "\n",
        "keywords = [\n",
        "                    \"bilgi\",\n",
        "                    \"belge\", \n",
        "                    \"açık\",\n",
        "                    \"erişim\", \n",
        "                    \"bilim\", \n",
        "                    \"büyük\",\n",
        "                    \"veri\", \n",
        "                    \"semantik\", \n",
        "                    \"teknoloji\", \n",
        "                    \"makine\",\n",
        "                    \"öğrenmesi\", \n",
        "                    \"yapay\",\n",
        "                    \"zeka\"\n",
        "]\n",
        "print(keywords)"
      ],
      "execution_count": 71,
      "outputs": [
        {
          "output_type": "stream",
          "text": [
            "['bilgi', 'belge', 'açık', 'erişim', 'bilim', 'büyük', 'veri', 'semantik', 'teknoloji', 'makine', 'öğrenmesi', 'yapay', 'zeka']\n"
          ],
          "name": "stdout"
        }
      ]
    },
    {
      "cell_type": "markdown",
      "metadata": {
        "id": "Ysmh__olhg_B",
        "colab_type": "text"
      },
      "source": [
        "Anahtar Kelimelerin örnek metin içinde aranması"
      ]
    },
    {
      "cell_type": "code",
      "metadata": {
        "id": "Cyek2DbEbVet",
        "colab_type": "code",
        "outputId": "68d3b2da-e33c-43ea-e4a7-596d7feace38",
        "colab": {
          "base_uri": "https://localhost:8080/",
          "height": 238
        }
      },
      "source": [
        "for keyword in keywords:\n",
        "  result = readarticle.count(keyword)\n",
        "  print(keyword+\": \" + str(result))"
      ],
      "execution_count": 72,
      "outputs": [
        {
          "output_type": "stream",
          "text": [
            "bilgi: 17\n",
            "belge: 0\n",
            "açık: 34\n",
            "erişim: 19\n",
            "bilim: 15\n",
            "büyük: 7\n",
            "veri: 63\n",
            "semantik: 0\n",
            "teknoloji: 9\n",
            "makine: 23\n",
            "öğrenmesi: 2\n",
            "yapay: 5\n",
            "zeka: 4\n"
          ],
          "name": "stdout"
        }
      ]
    },
    {
      "cell_type": "code",
      "metadata": {
        "id": "KsevhzVivxT5",
        "colab_type": "code",
        "outputId": "df3b8a63-d2e9-42a4-b278-dc1a0019fbaa",
        "colab": {
          "base_uri": "https://localhost:8080/",
          "height": 170
        }
      },
      "source": [
        "print(\"✔ Hesaplama İşlemi Tarih\")\n",
        "import datetime\n",
        "\n",
        "Tarih = datetime.datetime.now()\n",
        "\n",
        "print(Tarih)\n",
        "\n",
        "\n",
        "keywords=[ 17,0,34,19,15,7,63,0,9,23,2,5,4]\n",
        "toplam=0\n",
        "ortalama=0\n",
        "print(\"✔Toplam İlişkili Anahtar Kelime Sayısı\")\n",
        "for i in range(0,len(keywords)):\n",
        "      toplam+=keywords[i]\n",
        " \n",
        "ortalama=toplam/len(keywords)\n",
        "\n",
        "#Toplam İlişkili Anahtar Kelime Sayısı   \n",
        "print('Toplam  : ',toplam)\n",
        "#Toplam İlişkili Anahtar Kelime ortalaması\n",
        "print(\"✔Anahtar  Kelimelerin  ortalaması\")\n",
        "print('Ortalama : ',ortalama)\n",
        "#Toplam İlişkili Anahtar Kelime yüzdesi\n",
        "print(\"✔Anahtar Kelime İlişkisinin Yüzdesi\")\n",
        "print('Yüzde : ',toplam*ortalama/100)\n",
        "\n",
        "if toplam*ortalama/100 > 25:\n",
        "  print(\"✔Paragrafla Anahtar Kelimelerin Bir İlişkisi vardır\")\n",
        "\n",
        "else:\n",
        "  print(\"✔Paragrafla Anahtar Kelimelerin Bir İlişkisi yoktur.\")\n"
      ],
      "execution_count": 73,
      "outputs": [
        {
          "output_type": "stream",
          "text": [
            "✔ Hesaplama İşlemi Tarih\n",
            "2020-01-08 12:53:24.592705\n",
            "✔Toplam İlişkili Anahtar Kelime Sayısı\n",
            "Toplam  :  198\n",
            "✔Anahtar  Kelimelerin  ortalaması\n",
            "Ortalama :  15.23076923076923\n",
            "✔Anahtar Kelime İlişkisinin Yüzdesi\n",
            "Yüzde :  30.156923076923075\n",
            "✔Paragrafla Anahtar Kelimelerin Bir İlişkisi vardır\n"
          ],
          "name": "stdout"
        }
      ]
    },
    {
      "cell_type": "code",
      "metadata": {
        "id": "-bXf8lMH_1ob",
        "colab_type": "code",
        "outputId": "e455fe6d-1293-48dd-f369-9b418a0f1a76",
        "colab": {
          "base_uri": "https://localhost:8080/",
          "height": 282
        }
      },
      "source": [
        "print(\"✔ Paragrafla Anahtar Kelimelerin Bir İlişkisi olup olmadığını gösteren grafik\")\n",
        "\n",
        "\n",
        "\n",
        "\n",
        "import matplotlib.pyplot as plt\n",
        "from scipy import stats\n",
        "\n",
        "x = [ 17,0,34,19,15,7,63,0,9,23,2,5,4]\n",
        "y = [ 17,0,34,19,15,7,63,0,9,23,2,5,4]\n",
        "\n",
        "\n",
        "for i in range(0,len(x)):\n",
        "      toplam+=x[i]\n",
        " \n",
        "ortalama=toplam/len(x)\n",
        "\n",
        "\n",
        "\n",
        "slope, intercept, r, p, std_err = stats.linregress(x, y)\n",
        "\n",
        "def myfunc(x):\n",
        "  return slope * x + intercept\n",
        "\n",
        "mymodel = list(map(myfunc, x))\n",
        "\n",
        "plt.scatter(x,y)\n",
        "plt.plot(x, mymodel)\n",
        "plt.show()\n",
        "\n",
        "\n",
        "\n"
      ],
      "execution_count": 74,
      "outputs": [
        {
          "output_type": "stream",
          "text": [
            "✔ Paragrafla Anahtar Kelimelerin Bir İlişkisi olup olmadığını gösteren grafik\n"
          ],
          "name": "stdout"
        },
        {
          "output_type": "display_data",
          "data": {
            "image/png": "[encoded data removed]",
            "text/plain": [
              "<Figure size 432x288 with 1 Axes>"
            ]
          },
          "metadata": {
            "tags": []
          }
        }
      ]
    },
    {
      "cell_type": "code",
      "metadata": {
        "id": "49iQpwa397j1",
        "colab_type": "code",
        "colab": {}
      },
      "source": [
        ""
      ],
      "execution_count": 0,
      "outputs": []
    }
  ]
}