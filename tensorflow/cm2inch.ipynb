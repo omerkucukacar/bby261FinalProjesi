{
  "nbformat": 4,
  "nbformat_minor": 0,
  "metadata": {
    "colab": {
      "name": "cm2inch.ipynb",
      "provenance": [],
      "collapsed_sections": [],
      "toc_visible": true,
      "include_colab_link": true
    },
    "kernelspec": {
      "display_name": "Python 3",
      "name": "python3"
    }
  },
  "cells": [
    {
      "cell_type": "markdown",
      "metadata": {
        "id": "view-in-github",
        "colab_type": "text"
      },
      "source": [
        "<a href=\"https://colab.research.google.com/github/omerkucukacar/tensorflow/blob/master/cm2inch.ipynb\" target=\"_parent\"><img src=\"https://colab.research.google.com/assets/colab-badge.svg\" alt=\"Open In Colab\"/></a>"
      ]
    },
    {
      "cell_type": "code",
      "metadata": {
        "colab_type": "code",
        "id": "FeM-v7n4DCLq",
        "outputId": "30c255ff-3d7c-4bd5-dd12-5fd2460a2f5d",
        "colab": {
          "base_uri": "https://localhost:8080/",
          "height": 483
        }
      },
      "source": [
        "# Santimetreyi İnç birimine dönüştürmek için Python programı\n",
        "# Giriş alıyor\n",
        "print (\"♻ Cm'yi İnç'e Dönüştürme ♻\")\n",
        "print (\"✔ 1 inches => 2,54 cm'dir.\")\n",
        "\n",
        "num = float (input(\"✔ Santimetre Olarak Ölçülen Mesafeyi Giriniz ve Enter Tuşuna Basınız => \"))\n",
        "\n",
        "\n",
        "# Cm'den inç'e dönüştürme\n",
        "\"\"\" 1 inch = 2.55 centimeters\"\"\"\n",
        "inc = num/2.50\n",
        "\n",
        "\n",
        "# Sonucu yazdırma\n",
        "print(\"✔ İnç Olarak Tahmini Mesafe Karşılığı => \", inc)\n",
        "\n",
        "\n",
        "# Cm'den inç'e dönüştürme\n",
        "\"\"\" 1 inch = 2.54 centimeters\"\"\"\n",
        "inc = num/2.54\n",
        "\n",
        "# Sonucu yazdırma\n",
        "print(\"✔ İnç Olarak Kesin (%💯) Mesafe Karşılığı => \", inc)\n",
        "\n",
        "import tensorflow as tf\n",
        "import numpy as np\n",
        "import logging\n",
        "logger = tf.get_logger()\n",
        "logger.setLevel(logging.ERROR)\n",
        "centimeters = np.array([4, 20,  32, 45,  100],  dtype=float)\n",
        "inches = np.array([   1.17, 2.93,  17,  29, 39],  dtype=float)\n",
        "for i,c in enumerate(centimeters):\n",
        "  print(\"{} to Centimeters = {} to inches\".format(c, inches[i]))\n",
        "  l0 = tf.keras.layers.Dense(units=1, input_shape=[1])\n",
        "  model = tf.keras.Sequential([l0])\n",
        "  model.compile(loss='mean_squared_error',\n",
        "              optimizer=tf.keras.optimizers.Adam(0.1))\n",
        "  history = model.fit(centimeters, inches, epochs=1000, verbose=False)\n",
        "print(\"Modelin eğitimi tamamlandı\")\n",
        "\n",
        "import matplotlib.pyplot as plt\n",
        "plt.xlabel('Epoch Number')\n",
        "plt.ylabel(\"Loss Magnitude\")\n",
        "plt.plot(history.history['loss'])\n",
        "\n",
        "\n",
        "print(\"These are the layer variables: {}\".format(l0.get_weights()))\n",
        "\n",
        "\n"
      ],
      "execution_count": 45,
      "outputs": [
        {
          "output_type": "stream",
          "text": [
            "♻ Cm'yi İnç'e Dönüştürme ♻\n",
            "✔ 1 inches => 2,54 cm'dir.\n",
            "✔ Santimetre Olarak Ölçülen Mesafeyi Giriniz ve Enter Tuşuna Basınız => 100\n",
            "✔ İnç Olarak Tahmini Mesafe Karşılığı =>  40.0\n",
            "✔ İnç Olarak Kesin (%💯) Mesafe Karşılığı =>  39.37007874015748\n",
            "4.0 to Centimeters = 1.17 to inches\n",
            "20.0 to Centimeters = 2.93 to inches\n",
            "32.0 to Centimeters = 17.0 to inches\n",
            "45.0 to Centimeters = 29.0 to inches\n",
            "100.0 to Centimeters = 39.0 to inches\n",
            "Modelin eğitimi tamamlandı\n",
            "These are the layer variables: [array([[0.41421348]], dtype=float32), array([1.1686318], dtype=float32)]\n"
          ],
          "name": "stdout"
        },
        {
          "output_type": "display_data",
          "data": {
            "image/png": "[encoded data removed]",
            "text/plain": [
              "<Figure size 432x288 with 1 Axes>"
            ]
          },
          "metadata": {
            "tags": []
          }
        }
      ]
    }
  ]
}